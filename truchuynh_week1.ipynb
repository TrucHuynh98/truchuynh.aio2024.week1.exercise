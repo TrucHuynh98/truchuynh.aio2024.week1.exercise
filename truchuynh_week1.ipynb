{
 "cells": [
  {
   "cell_type": "code",
   "execution_count": 48,
   "id": "9d79c146-7599-4068-9862-eda751c4c080",
   "metadata": {},
   "outputs": [],
   "source": [
    "import pandas as pd\n",
    "import numpy as np\n",
    "import math\n",
    "import random"
   ]
  },
  {
   "cell_type": "markdown",
   "id": "a8bc1e4c-d8ab-414e-aa34-a11b2827a936",
   "metadata": {},
   "source": [
    "Exercise 1"
   ]
  },
  {
   "cell_type": "code",
   "execution_count": 25,
   "id": "2a92303f-fb5d-4f4a-8916-61dfaf9e58a2",
   "metadata": {},
   "outputs": [
    {
     "name": "stdout",
     "output_type": "stream",
     "text": [
      "precision is 0.5\n",
      "recall is 0.3333333333333333\n",
      "f1_score is 0.4\n"
     ]
    }
   ],
   "source": [
    "def f1score_(tp, fp, fn): ###input\n",
    "    ##Check type\n",
    "    if type(tp) == int and type(fp) == int and type(fn) == int:\n",
    "        ##Check values\n",
    "        if tp > 0 and fp > 0 and fn > 0:\n",
    "            Precision = tp/(tp+fp)\n",
    "            Recall = tp/(tp+fn)\n",
    "            f1_score = 2*((Precision*Recall)/(Precision + Recall))\n",
    "            \n",
    "            print ('precision is', Precision)\n",
    "            print ('recall is', Recall)\n",
    "            print ('f1_score is', f1_score)\n",
    "        else:\n",
    "            print ('tp and fp and fn must be greater than zero')\n",
    "    else:\n",
    "        if type(tp) != int: print ('tp must be int')\n",
    "        if type(fp) != int: print ('fp must be int')\n",
    "        if type(fn) != int: print ('fn must be int')\n",
    "\n",
    "f1score_(1, 1, 2)"
   ]
  },
  {
   "cell_type": "markdown",
   "id": "b0d7c3e8-1da9-45a5-899f-aa509ee1396e",
   "metadata": {},
   "source": [
    "Exercise 2"
   ]
  },
  {
   "cell_type": "code",
   "execution_count": 41,
   "id": "485accd8-47cd-4628-ab20-03ede2fbb0e0",
   "metadata": {},
   "outputs": [],
   "source": [
    "def _3_function():\n",
    "    x = input(\"Please enter value x : \")\n",
    "    func = input(\"Please choose function ( sigmoid | relu | elu ) :\")\n",
    "    \n",
    "    \n",
    "    def is_number ( n ) :\n",
    "        try :\n",
    "            float ( n ) # Type - casting the string to ‘float ‘.\n",
    "                        # If string is not a valid ‘float ‘ ,\n",
    "                        # it ’ll raise ‘ValueError ‘ exception\n",
    "        except ValueError :\n",
    "            return False\n",
    "        return True\n",
    "    \n",
    "    func_list = ['sigmoid', 'relu', 'elu']\n",
    "    \n",
    "    \n",
    "    if is_number(x) == True: ##check type of x\n",
    "        x = float(x)\n",
    "        if func in func_list: ##check name function\n",
    "            if func == 'sigmoid':    ##calculate sigmoid function\n",
    "                output = 1/(1 + math.exp(x))\n",
    "                print ('sigmoid: f(',x,')=', output)\n",
    "            if func == 'relu':       ##calculate relu function\n",
    "                if x <= 0:\n",
    "                    print ('relu: f(',x,')=', 0)\n",
    "                if x >  0:\n",
    "                    print ('relu: f(',x,')=', x)\n",
    "            if func == 'elu':        ##calculate elu function\n",
    "                if x <= 0:\n",
    "                    output = 0.01*(math.exp(x) - 1)\n",
    "                    print ('elu: f(',x,')=', output)\n",
    "                if x >  0:\n",
    "                    print ('elu: f(',x,')=', x)\n",
    "        else:\n",
    "            print(func,' is not supported')\n",
    "    else:\n",
    "        print('x must be a number') \n",
    "    \n",
    "    "
   ]
  },
  {
   "cell_type": "code",
   "execution_count": 42,
   "id": "3e5b77d0-b861-4a73-888b-e65a9fcd70aa",
   "metadata": {},
   "outputs": [
    {
     "name": "stdin",
     "output_type": "stream",
     "text": [
      "Please enter value x :  1\n",
      "Please choose function ( sigmoid | relu | elu ) : relu\n"
     ]
    },
    {
     "name": "stdout",
     "output_type": "stream",
     "text": [
      "relu: f( 1.0 )= 1.0\n"
     ]
    }
   ],
   "source": [
    "_3_function()"
   ]
  },
  {
   "cell_type": "markdown",
   "id": "a08d273c-1646-4fbf-86ed-9b1c80212b35",
   "metadata": {},
   "source": [
    "Exercise 3"
   ]
  },
  {
   "cell_type": "code",
   "execution_count": 53,
   "id": "857fc412-ddb4-4f58-a435-712cc478ae42",
   "metadata": {},
   "outputs": [],
   "source": [
    "def _loss_function_():\n",
    "    x = input('Input number of samples ( integer number ) which are generated:')\n",
    "    loss_name = input('Input loss name :')\n",
    "    \n",
    "    \n",
    "    if x.isnumeric() == True:\n",
    "        x = int(x)\n",
    "        if loss_name == 'MAE':\n",
    "            for i in range(x):\n",
    "                target = random.uniform(0,10)\n",
    "                predict = random.uniform(0,10)\n",
    "                loss = 1/x * abs(target - predict)\n",
    "                print ('loss name: ', loss_name, 'sample: ', i, ', pred: ', predict, ', target: ', target, ', loss: ', loss)\n",
    "        \n",
    "        if loss_name == 'MSE':\n",
    "            for i in range(x):\n",
    "                target = random.uniform(0,10)\n",
    "                predict = random.uniform(0,10)\n",
    "                loss = 1/x * (target - predict)**2\n",
    "                print ('loss name: ', loss_name, 'sample: ', i, ', pred: ', predict, ', target: ', target, ', loss: ', loss)\n",
    "\n",
    "        if loss_name == 'RMSE':\n",
    "            for i in range(x):\n",
    "                target = random.uniform(0,10)\n",
    "                predict = random.uniform(0,10)\n",
    "                loss = math.sqrt(1/x * (target - predict)**2)\n",
    "                print ('loss name: ', loss_name, 'sample: ', i, ', pred: ', predict, ', target: ', target, ', loss: ', loss)\n",
    "    else:\n",
    "        print ('number of samples must be an integer number')"
   ]
  },
  {
   "cell_type": "code",
   "execution_count": 56,
   "id": "42f53bde-6cd0-41ea-b65b-b86a6eebea79",
   "metadata": {},
   "outputs": [
    {
     "name": "stdin",
     "output_type": "stream",
     "text": [
      "Input number of samples ( integer number ) which are generated: a\n",
      "Input loss name : MAE\n"
     ]
    },
    {
     "name": "stdout",
     "output_type": "stream",
     "text": [
      "number of samples must be an integer number\n"
     ]
    }
   ],
   "source": [
    "_loss_function_()"
   ]
  },
  {
   "cell_type": "markdown",
   "id": "9ffc19e4-6f6f-4842-9fc4-474d91553241",
   "metadata": {},
   "source": [
    "Exercise 4"
   ]
  },
  {
   "cell_type": "code",
   "execution_count": 113,
   "id": "2314e15f-7367-4552-b8f7-4884d9b5ac9f",
   "metadata": {},
   "outputs": [],
   "source": [
    "\n",
    "def is_radian(value):\n",
    "    return -math.pi <= value <= math.pi\n",
    "\n",
    "def is_positive_int(x):\n",
    "    return isinstance(x, int) and x > 0\n",
    "\n",
    "def factorial(n):\n",
    "    if n < 0:\n",
    "        raise ValueError(\"Factorial is not defined for negative numbers.\")\n",
    "    result = 1\n",
    "    for i in range(1, n + 1):\n",
    "        result *= i\n",
    "    return result\n",
    "\n",
    "\n",
    "def _approx_sin_ (x, n):\n",
    "    if is_radian(x) == True:\n",
    "        if is_positive_int(n):\n",
    "            approx_sin = 0\n",
    "            for i in range(n+1):\n",
    "                a = 2*i +1\n",
    "                sin = ((-1)**i) * ((x**a)/factorial(a))\n",
    "                approx_sin = approx_sin + sin\n",
    "            print (approx_sin)\n",
    "        else:\n",
    "            print( 'n must be is int and > 0')\n",
    "    else:\n",
    "        print('x must be radian')\n",
    "\n",
    "\n",
    "def _approx_cos_ (x, n):\n",
    "    if is_radian(x) == True:\n",
    "        if is_positive_int(n):\n",
    "            approx_cos = 0\n",
    "            for i in range(n+1):\n",
    "                a = 2*i\n",
    "                cos = ((-1)**i) * ((x**a)/factorial(a))\n",
    "                approx_cos = approx_cos + cos\n",
    "            print (approx_cos)\n",
    "        else:\n",
    "            print( 'n must be is int and > 0')\n",
    "    else:\n",
    "        print('x must be radian')\n",
    "\n",
    "\n",
    "def _approx_sinh_ (x, n):\n",
    "    if is_radian(x) == True:\n",
    "        if is_positive_int(n):\n",
    "            approx_sinh = 0\n",
    "            for i in range(n+1):\n",
    "                a = 2*i+1\n",
    "                sinh = ((x**a)/factorial(a))\n",
    "                approx_sinh = approx_sinh + sinh\n",
    "            print (approx_sinh)\n",
    "        else:\n",
    "            print( 'n must be is int and > 0')\n",
    "    else:\n",
    "        print('x must be radian')\n",
    "\n",
    "\n",
    "def _approx_cosh_ (x, n):\n",
    "    if is_radian(x) == True:\n",
    "        if is_positive_int(n):\n",
    "            approx_sinh = 0\n",
    "            for i in range(n+1):\n",
    "                a = 2*i\n",
    "                sinh = ((x**a)/factorial(a))\n",
    "                approx_sinh = approx_sinh + sinh\n",
    "            print (approx_sinh)\n",
    "        else:\n",
    "            print( 'n must be is int and > 0')\n",
    "    else:\n",
    "        print('x must be radian')"
   ]
  },
  {
   "cell_type": "code",
   "execution_count": 114,
   "id": "59158ca5-376a-4bf6-9e6e-3fcc8c8256e7",
   "metadata": {},
   "outputs": [
    {
     "name": "stdout",
     "output_type": "stream",
     "text": [
      "11.573574828234543\n"
     ]
    }
   ],
   "source": [
    "_approx_cosh_(3.14,10)"
   ]
  },
  {
   "cell_type": "markdown",
   "id": "ce31f116-adc2-420d-9bd2-47f7a7c7b6e2",
   "metadata": {},
   "source": [
    "Exercise 4"
   ]
  },
  {
   "cell_type": "code",
   "execution_count": 118,
   "id": "0809ccb0-d885-4d45-b626-0ee5a3248688",
   "metadata": {},
   "outputs": [
    {
     "name": "stdout",
     "output_type": "stream",
     "text": [
      "0.025031328369998107\n"
     ]
    }
   ],
   "source": [
    "def md_nre_single_sample(y, y_hat, n, p):\n",
    "    print ((math.pow(y, 1 / n) - math.pow(y_hat, 1 / n))**p)\n",
    "\n",
    "md_nre_single_sample(100,99.5,2,1)"
   ]
  }
 ],
 "metadata": {
  "kernelspec": {
   "display_name": "Python 3 (ipykernel)",
   "language": "python",
   "name": "python3"
  },
  "language_info": {
   "codemirror_mode": {
    "name": "ipython",
    "version": 3
   },
   "file_extension": ".py",
   "mimetype": "text/x-python",
   "name": "python",
   "nbconvert_exporter": "python",
   "pygments_lexer": "ipython3",
   "version": "3.11.7"
  }
 },
 "nbformat": 4,
 "nbformat_minor": 5
}
